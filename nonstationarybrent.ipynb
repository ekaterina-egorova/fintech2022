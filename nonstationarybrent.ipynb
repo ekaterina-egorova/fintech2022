{
 "cells": [
  {
   "cell_type": "code",
   "execution_count": 27,
   "id": "887bb6f6",
   "metadata": {},
   "outputs": [
    {
     "data": {
      "text/plain": [
       "(-1.1730707066559776,\n",
       " 0.6850714383291308,\n",
       " 11,\n",
       " 715,\n",
       " {'1%': -3.4395289262948894,\n",
       "  '5%': -2.8655907692307694,\n",
       "  '10%': -2.5689271030368235},\n",
       " 3089.23482464526)"
      ]
     },
     "execution_count": 27,
     "metadata": {},
     "output_type": "execute_result"
    }
   ],
   "source": [
    "from statsmodels.tsa.stattools import adfuller\n",
    "import pandas as pd\n",
    "data = pd.read_csv('https://raw.githubusercontent.com/ekaterina-egorova/fintech2022/main/bent2.csv')\n",
    "\n",
    "adfuller(data)\n"
   ]
  },
  {
   "cell_type": "code",
   "execution_count": null,
   "id": "d65f9f53",
   "metadata": {},
   "outputs": [],
   "source": [
    "(-1.1730707066559776,\n",
    " 0.6850714383291308,\n",
    " 11,\n",
    " 715,\n",
    " {'1%': -3.4395289262948894,\n",
    "  '5%': -2.8655907692307694,\n",
    "  '10%': -2.5689271030368235},\n",
    " 3089.23482464526)\n",
    "\n",
    "Means that data is not stationary (probability 68%) and it is related to time"
   ]
  }
 ],
 "metadata": {
  "kernelspec": {
   "display_name": "Python 3 (ipykernel)",
   "language": "python",
   "name": "python3"
  },
  "language_info": {
   "codemirror_mode": {
    "name": "ipython",
    "version": 3
   },
   "file_extension": ".py",
   "mimetype": "text/x-python",
   "name": "python",
   "nbconvert_exporter": "python",
   "pygments_lexer": "ipython3",
   "version": "3.9.12"
  }
 },
 "nbformat": 4,
 "nbformat_minor": 5
}
